{
 "cells": [
  {
   "cell_type": "code",
   "execution_count": 5,
   "id": "cae7de6a-fc54-478a-8838-3f21a300b4b1",
   "metadata": {},
   "outputs": [],
   "source": [
    "import cv2\n",
    "import numpy as np\n",
    "import os\n",
    "from pathlib import Path\n",
    "from tqdm import tqdm"
   ]
  },
  {
   "cell_type": "markdown",
   "id": "bb1ec565-84c6-467b-9618-26d421b5870e",
   "metadata": {},
   "source": [
    "## Mixed species"
   ]
  },
  {
   "cell_type": "markdown",
   "id": "effbefcb-977e-4c19-aa93-0509c613ae0e",
   "metadata": {},
   "source": [
    "## Generate data for training "
   ]
  },
  {
   "cell_type": "code",
   "execution_count": 9,
   "id": "111b66ad-97ec-43b3-a097-cf9201f81d88",
   "metadata": {},
   "outputs": [],
   "source": [
    "def generate_mixed_darkfield_image(\n",
    "    img_size=(512, 512),\n",
    "    num_spheres=30,\n",
    "    num_rods=20,\n",
    "    sphere_radius_range=(6, 10),\n",
    "    rod_size_range=((15, 5), (30, 8)),  # (min_l,w), (max_l,w)\n",
    "    output_dir='darkfield_mixed/images',\n",
    "    annotation_dir='darkfield_mixed/labels',\n",
    "    image_id=0\n",
    "):\n",
    "    img = np.zeros(img_size, dtype=np.uint8)\n",
    "    boxes = []\n",
    "\n",
    "    # --- Spherical Cells (Class 0) ---\n",
    "    for _ in range(num_spheres):\n",
    "        r = np.random.randint(*sphere_radius_range)\n",
    "        x = np.random.randint(r, img_size[1] - r)\n",
    "        y = np.random.randint(r, img_size[0] - r)\n",
    "\n",
    "        cv2.circle(img, (x, y), r, 255, 2)\n",
    "        if np.random.rand() > 0.5:\n",
    "            cv2.circle(img, (x, y), r - 1, 180, -1)\n",
    "\n",
    "        cx, cy, w, h = x / img_size[1], y / img_size[0], (2 * r) / img_size[1], (2 * r) / img_size[0]\n",
    "        boxes.append(f\"0 {cx:.6f} {cy:.6f} {w:.6f} {h:.6f}\")\n",
    "\n",
    "    # --- Rod-Shaped Bacteria (Class 1) ---\n",
    "    for _ in range(num_rods):\n",
    "        l = np.random.randint(rod_size_range[0][0], rod_size_range[1][0])\n",
    "        w = np.random.randint(rod_size_range[0][1], rod_size_range[1][1])\n",
    "        x = np.random.randint(l, img_size[1] - l)\n",
    "        y = np.random.randint(w, img_size[0] - w)\n",
    "        angle = np.random.randint(0, 180)\n",
    "\n",
    "        # Draw ellipse to simulate rod\n",
    "        cv2.ellipse(img, (x, y), (l // 2, w // 2), angle, 0, 360, 255, 2)\n",
    "        if np.random.rand() > 0.5:\n",
    "            cv2.ellipse(img, (x, y), (l // 2 - 1, w // 2 - 1), angle, 0, 360, 180, -1)\n",
    "\n",
    "        # Convert bounding box\n",
    "        w_rot, h_rot = get_rotated_bbox(l, w, angle)\n",
    "        cx, cy = x / img_size[1], y / img_size[0]\n",
    "        bbox_w = w_rot / img_size[1]\n",
    "        bbox_h = h_rot / img_size[0]\n",
    "        boxes.append(f\"1 {cx:.6f} {cy:.6f} {bbox_w:.6f} {bbox_h:.6f}\")\n",
    "\n",
    "    # Light blur for realism\n",
    "    img = cv2.GaussianBlur(img, (3, 3), 0)\n",
    "\n",
    "    # Save image and label\n",
    "    Path(output_dir).mkdir(parents=True, exist_ok=True)\n",
    "    Path(annotation_dir).mkdir(parents=True, exist_ok=True)\n",
    "    img_path = f\"{output_dir}/mix_{image_id:04d}.jpg\"\n",
    "    label_path = f\"{annotation_dir}/mix_{image_id:04d}.txt\"\n",
    "\n",
    "    cv2.imwrite(img_path, img)\n",
    "    with open(label_path, 'w') as f:\n",
    "        f.write('\\n'.join(boxes))"
   ]
  },
  {
   "cell_type": "code",
   "execution_count": 10,
   "id": "05c6f821-63f9-4aaf-bd8e-d0bdff33bd5f",
   "metadata": {},
   "outputs": [],
   "source": [
    "def get_rotated_bbox(length, width, angle):\n",
    "    \"\"\"Estimate a rotated bounding box size (axis-aligned)\"\"\"\n",
    "    theta = np.radians(angle)\n",
    "    w_rot = abs(length * np.cos(theta)) + abs(width * np.sin(theta))\n",
    "    h_rot = abs(length * np.sin(theta)) + abs(width * np.cos(theta))\n",
    "    return w_rot, h_rot"
   ]
  },
  {
   "cell_type": "code",
   "execution_count": 11,
   "id": "90a1025a-0620-4942-82d4-5c4937173771",
   "metadata": {},
   "outputs": [],
   "source": [
    "# Generate dataset\n",
    "for i in range(500):  # or more\n",
    "    generate_mixed_darkfield_image(image_id=i)"
   ]
  },
  {
   "cell_type": "markdown",
   "id": "d0bfd723-1a6a-4139-b49b-845b3c286d5b",
   "metadata": {},
   "source": [
    "## Generate dataset for testing"
   ]
  },
  {
   "cell_type": "code",
   "execution_count": 20,
   "id": "be4c9f5a-f1b8-4ba1-b80c-86dbd4c893a5",
   "metadata": {},
   "outputs": [],
   "source": [
    "def generate_darkfield_image(image_size=512, num_cells=10, out_path=\"darkfield_mixed/test/images\", filename=\"test1.jpg\"):\n",
    "    img = np.zeros((image_size, image_size), dtype=np.uint8)\n",
    "\n",
    "    for _ in range(num_cells):\n",
    "        shape_type = np.random.choice(['circle', 'rod'])\n",
    "\n",
    "        if shape_type == 'circle':\n",
    "            radius = np.random.randint(8, 15)\n",
    "            x = np.random.randint(radius, image_size - radius)\n",
    "            y = np.random.randint(radius, image_size - radius)\n",
    "            cv2.circle(img, (x, y), radius, (255,), -1)\n",
    "\n",
    "        elif shape_type == 'rod':\n",
    "            length = np.random.randint(20, 40)\n",
    "            width = np.random.randint(6, 10)\n",
    "            angle = np.random.uniform(0, 180)\n",
    "            center = (np.random.randint(50, image_size - 50), np.random.randint(50, image_size - 50))\n",
    "            box = cv2.boxPoints(((center[0], center[1]), (length, width), angle))\n",
    "            box = np.int0(box)\n",
    "            cv2.drawContours(img, [box], 0, (255,), -1)\n",
    "\n",
    "    # Add Gaussian blur to simulate optics\n",
    "    img = cv2.GaussianBlur(img, (5, 5), 1)\n",
    "\n",
    "    # Save the image\n",
    "    os.makedirs(out_path, exist_ok=True)\n",
    "    cv2.imwrite(os.path.join(out_path, filename), img)"
   ]
  },
  {
   "cell_type": "code",
   "execution_count": 21,
   "id": "3d571c9c-d751-423f-b231-5aac65734982",
   "metadata": {},
   "outputs": [
    {
     "name": "stderr",
     "output_type": "stream",
     "text": [
      "  0%|                                                                                           | 0/10 [00:00<?, ?it/s]C:\\Users\\desmo\\AppData\\Local\\Temp\\ipykernel_14064\\1323145116.py:19: DeprecationWarning: `np.int0` is a deprecated alias for `np.intp`.  (Deprecated NumPy 1.24)\n",
      "  box = np.int0(box)\n",
      "100%|█████████████████████████████████████████████████████████████████████████████████| 10/10 [00:00<00:00, 474.09it/s]\n"
     ]
    }
   ],
   "source": [
    "# Generate 10 new test images\n",
    "for i in tqdm(range(10)):\n",
    "    generate_darkfield_image(filename=f\"test{i}.jpg\")"
   ]
  },
  {
   "cell_type": "code",
   "execution_count": null,
   "id": "d9b76691-0468-4727-bdaf-143d5d39c899",
   "metadata": {},
   "outputs": [],
   "source": []
  }
 ],
 "metadata": {
  "kernelspec": {
   "display_name": "Python 3 (ipykernel)",
   "language": "python",
   "name": "python3"
  },
  "language_info": {
   "codemirror_mode": {
    "name": "ipython",
    "version": 3
   },
   "file_extension": ".py",
   "mimetype": "text/x-python",
   "name": "python",
   "nbconvert_exporter": "python",
   "pygments_lexer": "ipython3",
   "version": "3.11.7"
  }
 },
 "nbformat": 4,
 "nbformat_minor": 5
}
