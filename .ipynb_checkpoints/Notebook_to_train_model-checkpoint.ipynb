{
 "cells": [
  {
   "cell_type": "code",
   "execution_count": 1,
   "id": "59ddf0f3-145d-4477-9df8-1d23a7b783d2",
   "metadata": {},
   "outputs": [
    {
     "ename": "SyntaxError",
     "evalue": "invalid syntax (3185182073.py, line 1)",
     "output_type": "error",
     "traceback": [
      "\u001b[1;36m  Cell \u001b[1;32mIn[1], line 1\u001b[1;36m\u001b[0m\n\u001b[1;33m    yolo detect train model=yolov8n.pt data=/absolute/path/to/data.yaml epochs=50 imgsz=512 batch=16\u001b[0m\n\u001b[1;37m         ^\u001b[0m\n\u001b[1;31mSyntaxError\u001b[0m\u001b[1;31m:\u001b[0m invalid syntax\n"
     ]
    }
   ],
   "source": [
    "yolo detect train model=yolov8n.pt data=/absolute/path/to/data.yaml epochs=50 imgsz=512 batch=16"
   ]
  },
  {
   "cell_type": "code",
   "execution_count": null,
   "id": "be96a55c-9997-4108-bad1-9245e6425aa0",
   "metadata": {},
   "outputs": [],
   "source": []
  }
 ],
 "metadata": {
  "kernelspec": {
   "display_name": "Python 3 (ipykernel)",
   "language": "python",
   "name": "python3"
  },
  "language_info": {
   "codemirror_mode": {
    "name": "ipython",
    "version": 3
   },
   "file_extension": ".py",
   "mimetype": "text/x-python",
   "name": "python",
   "nbconvert_exporter": "python",
   "pygments_lexer": "ipython3",
   "version": "3.10.16"
  }
 },
 "nbformat": 4,
 "nbformat_minor": 5
}
